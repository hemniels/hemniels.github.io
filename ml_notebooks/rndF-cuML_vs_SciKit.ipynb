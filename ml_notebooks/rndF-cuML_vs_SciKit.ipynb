{
 "cells": [
  {
   "attachments": {},
   "cell_type": "markdown",
   "metadata": {},
   "source": [
    "In diesem Projekt wollen wir untersuchen warum (und vor allem mit welchem Faktor X) es sinniger ist, unsere ML-Model auf der GPU zu trainieren.\n",
    "Wir nutzen hierbei den Vorteil einer heterogenen Architektur. In welcher die CPU nicht mehr wie gewohnt die Aufgaben ausfuehrt sondern als eine Art Scheduler die Aufgaben an unsere GPU weitergibt.  \n",
    "  \n",
    "Wir werden die CuML Library von RAPIDS.ai gegen scikit-learn antreten lassen in einer simplen Aufgabe.  \n",
    "SciKit-Learn ist weithin bekannt als eine der bekanntesten MachineLearning Libraries. SciKit-Learn benutzt zum trainieren des Models weiterhin wie bekannt die CPU mit ihren eigenen Registern und Speicher.  \n",
    "CuML ist eine von RAPIDS.ai entwickelte Library die es ermoeglicht die von NVIDIA gebaute CUDA-Architektur zum Training des Models zu nutzen. Hierbei fungiert die CPU wie eingangs erwaehnt als Scheduler, sprich entsteht eine Aufgabe weist die CPU automatisch die Rechnung an die GPU zu und ermoeglicht von dort Allokation von Speicher, sowie Ressourcen. Dies wird moeglich durch die bisher einzigartige CUDA Architektur, auf welcher RAPIDS.ai CuML (sowie auch CuDF) aufbaut. Zum weiteren Verstaendnis hilft hier vielleicht folgender Link: https://developer.download.nvidia.com/video/gputechconf/gtc/2019/presentation/s9801-rapids-deep-dive-into-how-the-platform-works.pdf .  \n",
    "CuDF ist (aehnlich wie CuML eine GPU nahe Adaption fuer ML-Algorithmen) eine GPU Utilisation vergleichbar mit der Pandas Library.  \n",
    "  \n",
    "Die hier gestellte Aufgabe ist recht simple und dient lediglich einer einfachen Visualisierung der Geschwindigkeitsunterschiede. Um zu zeigen wie viel schneller die GPU Version eines ML-Algorithmus ist, benutzen wir hier einen RandomForest Classifier (einmal mit SciKit-Learn auf der CPU, einmal mit CuML auf der GPU) auf einem vorher erzeugten DataSet aus Zufallszahlen und lassen beide Algorithmen ein Klassifizierungsproblem loesen. Abschliessend wurde die Geschwindigkeit beider Algorithmen faktorisiert und in einem Plot dargestellt.  \n",
    "  \n",
    "Details zu meinem benutzten Setup finden sie in der ersten Code-Cell."
   ]
  },
  {
   "cell_type": "code",
   "execution_count": 3,
   "metadata": {},
   "outputs": [
    {
     "name": "stdout",
     "output_type": "stream",
     "text": [
      "No LSB modules are available.\n",
      "Distributor ID:\tUbuntu\n",
      "Description:\tUbuntu 22.04.2 LTS\n",
      "Release:\t22.04\n",
      "Codename:\tjammy\n",
      "nvcc: NVIDIA (R) Cuda compiler driver\n",
      "Copyright (c) 2005-2021 NVIDIA Corporation\n",
      "Built on Thu_Nov_18_09:45:30_PST_2021\n",
      "Cuda compilation tools, release 11.5, V11.5.119\n",
      "Build cuda_11.5.r11.5/compiler.30672275_0\n",
      "NVIDIA GeForce RTX 3050 Ti Laptop GPU\n"
     ]
    }
   ],
   "source": [
    "#DETAILS ZU MEINEM SETUP FINDEN SIE HIER\n",
    "!lsb_release -a\n",
    "!nvcc --version\n",
    "!nvidia-smi --query-gpu=name --format=csv,noheader"
   ]
  },
  {
   "cell_type": "code",
   "execution_count": 5,
   "metadata": {},
   "outputs": [],
   "source": [
    "import numpy as np\n",
    "import matplotlib.pyplot as plt\n",
    "\n",
    "from sklearn.ensemble import RandomForestClassifier\n",
    "from cuml.ensemble import RandomForestClassifier as cuRFClassifier\n",
    "from time import time"
   ]
  },
  {
   "cell_type": "code",
   "execution_count": 7,
   "metadata": {},
   "outputs": [
    {
     "name": "stdout",
     "output_type": "stream",
     "text": [
      "Scikit-learn time 24.0630s\n",
      "cuML time: 0.4914s\n",
      "cuML speedup: 48.97x\n"
     ]
    },
    {
     "data": {
      "image/png": "[encoded data removed]",
      "text/plain": [
       "<Figure size 640x480 with 1 Axes>"
      ]
     },
     "metadata": {},
     "output_type": "display_data"
    }
   ],
   "source": [
    "# randomly generated Dataset and convert to float32 to fit pickling\n",
    "X = np.random.rand(10000, 1000)\n",
    "y = np.random.randint(0, 2, 10000)\n",
    "\n",
    "X = X.astype('float32')\n",
    "\n",
    "# scikit-learn RandomForest + timing\n",
    "clf_sk = RandomForestClassifier(n_estimators=100)\n",
    "start_time = time()\n",
    "clf_sk.fit(X, y)\n",
    "sk_time = time() - start_time\n",
    "\n",
    "# cuML RandomForest + timing\n",
    "clf_cuml = cuRFClassifier(n_estimators=100)\n",
    "start_time = time()\n",
    "clf_cuml.fit(X, y)\n",
    "cuml_time = time() - start_time\n",
    "\n",
    "#print results\n",
    "print(\"Scikit-learn time {:.4f}s\".format(sk_time))\n",
    "print(\"cuML time: {:.4f}s\".format(cuml_time))\n",
    "print(\"cuML speedup: {:.2f}x\".format(sk_time/cuml_time))\n",
    "\n",
    "#plot results\n",
    "labels = ['scikit-learn', 'cuML']\n",
    "values = [sk_time, cuml_time]\n",
    "\n",
    "plt.bar(labels,values)\n",
    "plt.ylabel('Zeit in Sekunden')\n",
    "plt.title('Geschwindigkeitsvergleich: SciKit vs cuML')\n",
    "\n",
    "plt.show()"
   ]
  },
  {
   "attachments": {},
   "cell_type": "markdown",
   "metadata": {},
   "source": [
    "LEGAL DISCLAIMER:  \n",
    "This website and its content are for educational and informational purposes only. All information and content provided on this site are the property of their respective owners. We do not claim any ownership, affiliation or endorsement of any of the products or brands mentioned on this website. \n",
    "\n",
    "We do not make any warranties or representations concerning the accuracy or completeness of any information or content displayed on this website. We also do not guarantee that this website or its content will be error-free or uninterrupted. \n",
    "\n",
    "Any reliance you place on such information is strictly at your own risk. We shall not be held liable for any loss or damage caused by your reliance on any information or content contained in this website.\n",
    "\n",
    "All trademarks, logos and brand names appearing on this website are the property of their respective owners. Any use of such trademarks, logos or brand names is solely for informational and descriptive purposes, and does not imply an endorsement or sponsorship by the owners of such trademarks, logos or brand names.\n",
    "\n",
    "Finally, we reserve the right to modify or discontinue, temporarily or permanently, this website and its content without prior notice to you.\n"
   ]
  }
 ],
 "metadata": {
  "kernelspec": {
   "display_name": "Python 3",
   "language": "python",
   "name": "python3"
  },
  "language_info": {
   "codemirror_mode": {
    "name": "ipython",
    "version": 3
   },
   "file_extension": ".py",
   "mimetype": "text/x-python",
   "name": "python",
   "nbconvert_exporter": "python",
   "pygments_lexer": "ipython3",
   "version": "3.10.6"
  },
  "orig_nbformat": 4
 },
 "nbformat": 4,
 "nbformat_minor": 2
}
