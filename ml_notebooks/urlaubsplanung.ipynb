{
 "cells": [
  {
   "attachments": {},
   "cell_type": "markdown",
   "metadata": {},
   "source": [
    "## Arbeitstitel: Urlaubsplanung\n",
    "! DISCLAIMER : ALLE DATEN IN DIESEM PROJEKT SIND ZUFAELLIG GENERIERT UND SIND IN KEINSTER WEISE EINE ANLEHNUNG AN REALE PERSONEN  \n",
    "                ALL DATA USED IN THIS PROJECT IS RANDOMLY GENERATED AND DOES NOT RESEMLBE ANY REAL WORLD PERSON                    !\n",
    "1. Hier entsteht mit Hilfe von Data Science, Algorithmik (TSP) ein Urlaubsplan.\n",
    "2. Hier entsteht mit Hilfe von Machine Learning ein Algorithmus um unvorhergesehen Urlaubstage zu planen.\n",
    "3. Wird hier ueber Ethik und Transparenz von ML Algorithmen im HR Bereich geschrieben.."
   ]
  },
  {
   "cell_type": "code",
   "execution_count": 167,
   "metadata": {},
   "outputs": [],
   "source": [
    "import numpy as np\n",
    "import pandas as pd\n",
    "import random\n",
    "\n",
    "from datetime import datetime, timedelta\n",
    "from faker import Faker"
   ]
  },
  {
   "cell_type": "code",
   "execution_count": 168,
   "metadata": {},
   "outputs": [
    {
     "name": "stdout",
     "output_type": "stream",
     "text": [
      "Sales          393\n",
      "Finance        375\n",
      "IT             357\n",
      "HR             353\n",
      "Engineering    351\n",
      "Operations     350\n",
      "Marketing      321\n",
      "Name: Department, dtype: int64\n"
     ]
    }
   ],
   "source": [
    "#setup Dataset\n",
    "np.random.seed(123)\n",
    "n_employees = 2500\n",
    "baseline_days = np.random.randint(10, 20, n_employees)\n",
    "extra_days = np.random.randint(2, 5, n_employees)\n",
    "overtime_days = np.random.randint(0, 5, n_employees)\n",
    "remaining_days = np.random.randint(0, 5, n_employees)\n",
    "\n",
    "def generate_employee_data(num_employees):\n",
    "    fake = Faker()\n",
    "    departments = [\"HR\", \"Engineering\", \"Marketing\", \"Sales\", \"Finance\"]\n",
    "    data = []\n",
    "    for i in range(num_employees):\n",
    "        name = fake.name()\n",
    "        email = fake.email()\n",
    "        phone = fake.phone_number()\n",
    "        department = fake.random.choice(departments)\n",
    "        address = fake.address()\n",
    "        city = fake.city()\n",
    "        state = fake.state()\n",
    "        data.append((name, email, phone, department, address, city, state))\n",
    "    return data\n",
    "\n",
    "employee_data = generate_employee_data(2500)\n",
    "column_names = [\"Name\", \"Email\", \"Phone\", \"Department\", \"Address\", \"City\", \"State\"]\n",
    "dataset = pd.DataFrame(employee_data, columns=column_names)\n",
    "\n",
    "\n",
    "#fake names/fake departments\n",
    "fake = Faker()\n",
    "departments = ['Sales', 'Marketing', 'Engineering', 'Finance', 'HR', 'IT', 'Operations']\n",
    "names = [fake.name() for _ in range(n_employees)]\n",
    "\n",
    "\n",
    "dataset = pd.DataFrame({\n",
    "    \"Name\": names,\n",
    "    \"Baseline Days\": baseline_days,\n",
    "    \"Extra Days\": extra_days,\n",
    "    \"Overtime Days\": overtime_days,\n",
    "    \"Remaining Days\": remaining_days\n",
    "})\n",
    "dataset['Department'] = [random.choice(departments) for i in range(len(dataset))]\n",
    "#print(dataset)\n",
    "emp_count = dataset['Department'].value_counts()\n",
    "print(emp_count)"
   ]
  },
  {
   "cell_type": "code",
   "execution_count": 169,
   "metadata": {},
   "outputs": [
    {
     "name": "stdout",
     "output_type": "stream",
     "text": [
      "        Employee Name  Department Vacation Date\n",
      "0        Laura Gordon  Operations    2023-01-18\n",
      "1        Albert Allen          IT    2023-01-18\n",
      "2         Lucas Jones          IT    2023-01-18\n",
      "3      Tracey Hancock          IT    2023-01-18\n",
      "4         Nathan Bush       Sales    2023-01-18\n",
      "...               ...         ...           ...\n",
      "2495  Colleen Cabrera     Finance    2023-01-17\n",
      "2496       Susan Ross   Marketing    2023-01-17\n",
      "2497     Megan Dudley  Operations    2023-01-15\n",
      "2498   Michael Wilson          IT    2023-01-15\n",
      "2499      Amber Mejia   Marketing    2023-01-19\n",
      "\n",
      "[2500 rows x 3 columns]\n"
     ]
    }
   ],
   "source": [
    "emp_names = dataset[\"Name\"].values\n",
    "vacation_days = dataset[\"Baseline Days\"].values\n",
    "extra_vac = dataset[\"Extra Days\"].values\n",
    "overtime = dataset[\"Overtime Days\"].values\n",
    "remaining = dataset[\"Remaining Days\"].values\n",
    "departments = dataset[\"Department\"].values\n",
    "\n",
    "def distance(i, j):\n",
    "    return abs(vacation_days[i] - vacation_days[j]) + abs(extra_vac[i] - extra_vac[j]) + abs(overtime[i] - overtime[j]) + abs(remaining[i] - remaining[j])\n",
    "\n",
    "len_data = len(names)\n",
    "distance_matrix = np.zeros((n_employees, len_data))\n",
    "\n",
    "for i in range(n_employees):\n",
    "    for j in range(n_employees):\n",
    "        distance_matrix[i][j] = distance(i, j)\n",
    "\n",
    "def nearest_neighbor(distance_matrix):\n",
    "    n = len(distance_matrix)\n",
    "    visited = np.zeros(n, dtype=bool)\n",
    "    route = []\n",
    "    current_city = np.random.randint(0, n)\n",
    "    visited[current_city] = True\n",
    "    route.append(current_city)\n",
    "    for i in range(n-1):\n",
    "        next_city = np.argmin(distance_matrix[current_city] + visited*1e12)\n",
    "        visited[next_city] = True\n",
    "        route.append(next_city)\n",
    "        current_city = next_city\n",
    "    sorted_indices = np.argsort(route)\n",
    "    return route, sorted_indices\n",
    "\n",
    "route, sorted_indices = nearest_neighbor(distance_matrix)\n",
    "\n",
    "start_date = pd.Timestamp('2023-01-01').date()\n",
    "end_date = pd.Timestamp('2023-01-31').date()\n",
    "vacation_dates = pd.to_datetime(start_date) + pd.to_timedelta(vacation_days[route]-1, unit='D')\n",
    "\n",
    "vacation_schedule = pd.DataFrame({\n",
    "    'Employee Name': emp_names[sorted_indices],\n",
    "    'Department': departments[sorted_indices],\n",
    "    'Vacation Date': vacation_dates.strftime('%Y-%m-%d')\n",
    "})\n",
    "print(vacation_schedule)\n",
    "vacation_schedule.sort_values(by='Vacation Date', inplace=True)\n",
    "vacation_schedule.to_csv('vacation_schedule.csv', index=False)"
   ]
  }
 ],
 "metadata": {
  "kernelspec": {
   "display_name": "Python 3",
   "language": "python",
   "name": "python3"
  },
  "language_info": {
   "codemirror_mode": {
    "name": "ipython",
    "version": 3
   },
   "file_extension": ".py",
   "mimetype": "text/x-python",
   "name": "python",
   "nbconvert_exporter": "python",
   "pygments_lexer": "ipython3",
   "version": "3.10.6"
  },
  "orig_nbformat": 4
 },
 "nbformat": 4,
 "nbformat_minor": 2
}
